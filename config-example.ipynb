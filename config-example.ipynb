{
 "cells": [
  {
   "cell_type": "markdown",
   "metadata": {},
   "source": [
    "This is the config enabled example case, i.e., we'll define our \"config\" variables within the main Jupyter nb. I'll just create a few variables in one cell, and use them in another. Then, in some somesequent notebooks I will import that data from two different types of \"config\" files, i.e., one being a `config_pure.py`, and the other being a `config_jupyter.ipynb`. "
   ]
  },
  {
   "cell_type": "markdown",
   "metadata": {},
   "source": [
    "First try to import config variables from the `config_pure.py`"
   ]
  },
  {
   "cell_type": "code",
   "execution_count": 3,
   "metadata": {},
   "outputs": [
    {
     "name": "stdout",
     "output_type": "stream",
     "text": [
      "Variable      Type    Data/Info\n",
      "-------------------------------\n",
      "config_var1   str     ./some_path\n",
      "config_var2   bool    True\n"
     ]
    }
   ],
   "source": [
    "%reset -f\n",
    "%run config_pure.py\n",
    "#import config_pure\n",
    "%whos"
   ]
  },
  {
   "cell_type": "markdown",
   "metadata": {},
   "source": [
    "Second try to import config variables from the `config_jupyter.ipynb`.\n",
    "\n",
    "- Notes\n",
    "    - This approach seems to require the `nbformat` python library to be installed. "
   ]
  },
  {
   "cell_type": "code",
   "execution_count": 4,
   "metadata": {},
   "outputs": [
    {
     "name": "stdout",
     "output_type": "stream",
     "text": [
      "3.10.4 | packaged by conda-forge | (main, Mar 30 2022, 08:38:02) [MSC v.1916 64 bit (AMD64)]\n",
      "Variable      Type      Data/Info\n",
      "---------------------------------\n",
      "config_var1   str       ./some_path\n",
      "config_var2   bool      True\n",
      "config_var3   int       42\n",
      "sys           module    <module 'sys' (built-in)>\n"
     ]
    }
   ],
   "source": [
    "import sys\n",
    "print(sys.version)\n",
    "%run config_jupyter.ipynb\n",
    "%whos"
   ]
  },
  {
   "cell_type": "markdown",
   "metadata": {},
   "source": [
    "Now we will use these variables to print something"
   ]
  },
  {
   "cell_type": "code",
   "execution_count": 5,
   "metadata": {},
   "outputs": [
    {
     "name": "stdout",
     "output_type": "stream",
     "text": [
      "The answer to life the universe and everything is 42 ... True\n",
      "The path variable is ./some_path\n"
     ]
    }
   ],
   "source": [
    "print(\"The answer to life the universe and everything is \"+str(config_var3)+\" ... \"+str(config_var2))\n",
    "print(\"The path variable is \"+config_var1)"
   ]
  }
 ],
 "metadata": {
  "kernelspec": {
   "display_name": "Python 3.8.13 ('lisa')",
   "language": "python",
   "name": "python3"
  },
  "language_info": {
   "codemirror_mode": {
    "name": "ipython",
    "version": 3
   },
   "file_extension": ".py",
   "mimetype": "text/x-python",
   "name": "python",
   "nbconvert_exporter": "python",
   "pygments_lexer": "ipython3",
   "version": "3.8.13"
  },
  "orig_nbformat": 4,
  "vscode": {
   "interpreter": {
    "hash": "fe14fd09ae7490015763e03b49210e069475033730d9a026c19ac422ef744449"
   }
  }
 },
 "nbformat": 4,
 "nbformat_minor": 2
}
